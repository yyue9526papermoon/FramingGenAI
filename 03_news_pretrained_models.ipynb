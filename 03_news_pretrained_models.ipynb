{
 "cells": [
  {
   "cell_type": "code",
   "execution_count": 5,
   "id": "48db0475-f782-4c80-bc31-3f25e718c750",
   "metadata": {},
   "outputs": [],
   "source": [
    "from transformers import pipeline, AutoConfig\n",
    "from huggingface_hub import login\n",
    "import os"
   ]
  },
  {
   "cell_type": "code",
   "execution_count": 6,
   "id": "6858b656-4e68-4455-81c1-86e42c87dceb",
   "metadata": {},
   "outputs": [],
   "source": [
    "# (Optional) if you need to access private/gated repos, uncomment and set your token\n",
    "# login(os.environ.get(\"HF_TOKEN\", \"\"))  # or login(\"hf_xxx\")\n",
    "\n",
    "MODEL_IDS = [\n",
    "    \"nabeelshan/distilbert-finetuned-agnews\",\n",
    "    \"textattack/bert-base-uncased-ag-news\",    # public baseline\n",
    "    # \"mansoohamidzadeh/ag-news-bert-classification\",  # this one 401'd for you\n",
    "]"
   ]
  },
  {
   "cell_type": "code",
   "execution_count": 7,
   "id": "2675d573-ad6a-4cbf-b95e-4cc0de85f6e7",
   "metadata": {},
   "outputs": [],
   "source": [
    "texts = [\n",
    "    \"Senate passes a bill to avoid a government shutdown.\",\n",
    "    \"Apple unveils its latest chip for laptops.\",\n",
    "    \"Real Madrid secures a dramatic win in the Champions League.\",\n",
    "]\n"
   ]
  },
  {
   "cell_type": "code",
   "execution_count": 8,
   "id": "3b452235-b486-44da-952c-c33f704795a5",
   "metadata": {},
   "outputs": [
    {
     "name": "stdout",
     "output_type": "stream",
     "text": [
      "\n",
      "=== MODEL: nabeelshan/distilbert-finetuned-agnews ===\n"
     ]
    },
    {
     "name": "stderr",
     "output_type": "stream",
     "text": [
      "Device set to use cpu\n"
     ]
    },
    {
     "name": "stdout",
     "output_type": "stream",
     "text": [
      "id2label: {0: 'World', 1: 'Sports', 2: 'Business', 3: 'Sci/Tech'}\n",
      "Senate passes a bill to avoid a government shutdown. -> [[{'label': 'World', 'score': 0.9278092980384827}, {'label': 'Sci/Tech', 'score': 0.049864448606967926}, {'label': 'Business', 'score': 0.02062285877764225}, {'label': 'Sports', 'score': 0.001703251269645989}]]\n",
      "Apple unveils its latest chip for laptops. -> [[{'label': 'Sci/Tech', 'score': 0.9120488166809082}, {'label': 'Business', 'score': 0.08335810899734497}, {'label': 'World', 'score': 0.0042580496519804}, {'label': 'Sports', 'score': 0.0003350058104842901}]]\n",
      "Real Madrid secures a dramatic win in the Champions League. -> [[{'label': 'World', 'score': 0.8808568716049194}, {'label': 'Sports', 'score': 0.10964323580265045}, {'label': 'Business', 'score': 0.008501964621245861}, {'label': 'Sci/Tech', 'score': 0.000997980241663754}]]\n",
      "\n",
      "=== MODEL: textattack/bert-base-uncased-ag-news ===\n"
     ]
    },
    {
     "data": {
      "application/vnd.jupyter.widget-view+json": {
       "model_id": "4ed3589e93f44e33961f7a79112ba8e0",
       "version_major": 2,
       "version_minor": 0
      },
      "text/plain": [
       "config.json:   0%|          | 0.00/706 [00:00<?, ?B/s]"
      ]
     },
     "metadata": {},
     "output_type": "display_data"
    },
    {
     "name": "stderr",
     "output_type": "stream",
     "text": [
      "E:\\Anaconda\\download\\envs\\framing-py310\\lib\\site-packages\\huggingface_hub\\file_download.py:143: UserWarning: `huggingface_hub` cache-system uses symlinks by default to efficiently store duplicated files but your machine does not support them in C:\\Users\\CoCo\\.cache\\huggingface\\hub\\models--textattack--bert-base-uncased-ag-news. Caching files will still work but in a degraded version that might require more space on your disk. This warning can be disabled by setting the `HF_HUB_DISABLE_SYMLINKS_WARNING` environment variable. For more details, see https://huggingface.co/docs/huggingface_hub/how-to-cache#limitations.\n",
      "To support symlinks on Windows, you either need to activate Developer Mode or to run Python as an administrator. In order to activate developer mode, see this article: https://docs.microsoft.com/en-us/windows/apps/get-started/enable-your-device-for-development\n",
      "  warnings.warn(message)\n",
      "Xet Storage is enabled for this repo, but the 'hf_xet' package is not installed. Falling back to regular HTTP download. For better performance, install the package with: `pip install huggingface_hub[hf_xet]` or `pip install hf_xet`\n"
     ]
    },
    {
     "data": {
      "application/vnd.jupyter.widget-view+json": {
       "model_id": "d816027cbfd8424fbad810b5f68f54bd",
       "version_major": 2,
       "version_minor": 0
      },
      "text/plain": [
       "pytorch_model.bin:   0%|          | 0.00/438M [00:00<?, ?B/s]"
      ]
     },
     "metadata": {},
     "output_type": "display_data"
    },
    {
     "data": {
      "application/vnd.jupyter.widget-view+json": {
       "model_id": "db6bb3426e244044aa899fc5131aa36b",
       "version_major": 2,
       "version_minor": 0
      },
      "text/plain": [
       "tokenizer_config.json:   0%|          | 0.00/48.0 [00:00<?, ?B/s]"
      ]
     },
     "metadata": {},
     "output_type": "display_data"
    },
    {
     "data": {
      "application/vnd.jupyter.widget-view+json": {
       "model_id": "65bf15e5c98649de946ce09359c39e69",
       "version_major": 2,
       "version_minor": 0
      },
      "text/plain": [
       "vocab.txt: 0.00B [00:00, ?B/s]"
      ]
     },
     "metadata": {},
     "output_type": "display_data"
    },
    {
     "data": {
      "application/vnd.jupyter.widget-view+json": {
       "model_id": "ce85cb8a69ea4ed08a96f3d10625e4c5",
       "version_major": 2,
       "version_minor": 0
      },
      "text/plain": [
       "special_tokens_map.json:   0%|          | 0.00/112 [00:00<?, ?B/s]"
      ]
     },
     "metadata": {},
     "output_type": "display_data"
    },
    {
     "name": "stderr",
     "output_type": "stream",
     "text": [
      "Device set to use cpu\n"
     ]
    },
    {
     "name": "stdout",
     "output_type": "stream",
     "text": [
      "id2label: {0: 'LABEL_0', 1: 'LABEL_1', 2: 'LABEL_2', 3: 'LABEL_3'}\n",
      "Senate passes a bill to avoid a government shutdown. -> [[{'label': 'LABEL_0', 'score': 0.9991556406021118}, {'label': 'LABEL_3', 'score': 0.0004554202314466238}, {'label': 'LABEL_2', 'score': 0.0003324317804072052}, {'label': 'LABEL_1', 'score': 5.648960723192431e-05}]]\n",
      "Apple unveils its latest chip for laptops. -> [[{'label': 'LABEL_3', 'score': 0.9325820207595825}, {'label': 'LABEL_2', 'score': 0.04523678496479988}, {'label': 'LABEL_0', 'score': 0.021970342844724655}, {'label': 'LABEL_1', 'score': 0.00021086123888380826}]]\n",
      "Real Madrid secures a dramatic win in the Champions League. -> [[{'label': 'LABEL_0', 'score': 0.9983503818511963}, {'label': 'LABEL_2', 'score': 0.0009797847596928477}, {'label': 'LABEL_1', 'score': 0.000532584439497441}, {'label': 'LABEL_3', 'score': 0.00013727578334510326}]]\n"
     ]
    },
    {
     "name": "stderr",
     "output_type": "stream",
     "text": [
      "Xet Storage is enabled for this repo, but the 'hf_xet' package is not installed. Falling back to regular HTTP download. For better performance, install the package with: `pip install huggingface_hub[hf_xet]` or `pip install hf_xet`\n"
     ]
    }
   ],
   "source": [
    "\n",
    "for mid in MODEL_IDS:\n",
    "    print(\"\\n=== MODEL:\", mid, \"===\")\n",
    "    try:\n",
    "        clf = pipeline(\"text-classification\", model=mid, tokenizer=mid, top_k=None)\n",
    "        cfg = AutoConfig.from_pretrained(mid)\n",
    "        print(\"id2label:\", getattr(cfg, \"id2label\", None))\n",
    "        for t in texts:\n",
    "            pred = clf(t)\n",
    "            print(f\"{t} -> {pred}\")\n",
    "    except Exception as e:\n",
    "        print(f\"[SKIP] Could not load {mid}: {e}\")"
   ]
  },
  {
   "cell_type": "code",
   "execution_count": null,
   "id": "9bd6406b-d076-4ae6-9b31-3321147c183c",
   "metadata": {},
   "outputs": [],
   "source": []
  }
 ],
 "metadata": {
  "kernelspec": {
   "display_name": "Python (framing-py310)",
   "language": "python",
   "name": "framing-py310"
  },
  "language_info": {
   "codemirror_mode": {
    "name": "ipython",
    "version": 3
   },
   "file_extension": ".py",
   "mimetype": "text/x-python",
   "name": "python",
   "nbconvert_exporter": "python",
   "pygments_lexer": "ipython3",
   "version": "3.10.18"
  }
 },
 "nbformat": 4,
 "nbformat_minor": 5
}
